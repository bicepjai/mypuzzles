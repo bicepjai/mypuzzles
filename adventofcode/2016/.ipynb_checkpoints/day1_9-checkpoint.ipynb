{
 "cells": [
  {
   "cell_type": "markdown",
   "metadata": {
    "ExecuteTime": {
     "end_time": "2017-08-19T07:36:18.035966Z",
     "start_time": "2017-08-19T07:36:18.030689Z"
    }
   },
   "source": [
    "# Data Exploration"
   ]
  },
  {
   "cell_type": "markdown",
   "metadata": {},
   "source": [
    "# Setup"
   ]
  },
  {
   "cell_type": "code",
   "execution_count": 1,
   "metadata": {
    "ExecuteTime": {
     "end_time": "2017-11-10T22:29:52.003594Z",
     "start_time": "2017-11-10T22:29:50.743461Z"
    }
   },
   "outputs": [
    {
     "name": "stderr",
     "output_type": "stream",
     "text": [
      "/home/bicepjai/Programs/anaconda3/envs/statoilicc/lib/python3.6/importlib/_bootstrap.py:219: RuntimeWarning: compiletime version 3.5 of module 'tensorflow.python.framework.fast_tensor_util' does not match runtime version 3.6\n",
      "  return f(*args, **kwds)\n"
     ]
    }
   ],
   "source": [
    "import sys\n",
    "import os\n",
    "\n",
    "import re\n",
    "import collections\n",
    "import itertools\n",
    "import bcolz\n",
    "import pickle\n",
    "\n",
    "import numpy as np\n",
    "import pandas as pd\n",
    "import gc\n",
    "import random\n",
    "import smart_open\n",
    "import h5py\n",
    "import csv\n",
    "\n",
    "import tensorflow as tf\n",
    "import gensim\n",
    "import string\n",
    "\n",
    "import datetime as dt\n",
    "from tqdm import tqdm_notebook as tqdm\n",
    "\n",
    "import numpy as np\n",
    "import pandas as pd\n",
    "\n",
    "import matplotlib.pyplot as plt\n",
    "import seaborn as sns\n",
    "\n",
    "random_state_number = 967898"
   ]
  },
  {
   "cell_type": "markdown",
   "metadata": {},
   "source": [
    "## Day1: No Time for a Taxicab"
   ]
  },
  {
   "cell_type": "markdown",
   "metadata": {},
   "source": [
    "--- Day 1: No Time for a Taxicab ---\n",
    "\n",
    "Santa's sleigh uses a very high-precision clock to guide its movements, and the clock's oscillator is regulated by stars. Unfortunately, the stars have been stolen... by the Easter Bunny. To save Christmas, Santa needs you to retrieve all fifty stars by December 25th.\n",
    "\n",
    "Collect stars by solving puzzles. Two puzzles will be made available on each day in the advent calendar; the second puzzle is unlocked when you complete the first. Each puzzle grants one star. Good luck!\n",
    "\n",
    "You're airdropped near Easter Bunny Headquarters in a city somewhere. \"Near\", unfortunately, is as close as you can get - the instructions on the Easter Bunny Recruiting Document the Elves intercepted start here, and nobody had time to work them out further.\n",
    "\n",
    "The Document indicates that you should start at the given coordinates (where you just landed) and face North. Then, follow the provided sequence: either turn left (L) or right (R) 90 degrees, then walk forward the given number of blocks, ending at a new intersection.\n",
    "\n",
    "There's no time to follow such ridiculous instructions on foot, though, so you take a moment and work out the destination. Given that you can only walk on the street grid of the city, how far is the shortest path to the destination?\n",
    "\n",
    "For example:\n",
    "\n",
    "Following R2, L3 leaves you 2 blocks East and 3 blocks North, or 5 blocks away.\n",
    "R2, R2, R2 leaves you 2 blocks due South of your starting position, which is 2 blocks away.\n",
    "R5, L5, R5, R3 leaves you 12 blocks away.\n",
    "How many blocks away is Easter Bunny HQ?"
   ]
  },
  {
   "cell_type": "code",
   "execution_count": 2,
   "metadata": {
    "ExecuteTime": {
     "end_time": "2017-11-08T09:50:17.460893Z",
     "start_time": "2017-11-08T09:50:17.342093Z"
    }
   },
   "outputs": [
    {
     "name": "stdout",
     "output_type": "stream",
     "text": [
      "R4, R5, L5, L5, L3, R2, R1, R1, L5, R5, R2, L1, L3, L4, R3, L1, L1, R2, R3, R3, R1, L3, L5, R3, R1, L1, R1, R2, L1, L4, L5, R4, R2, L192, R5, L2, R53, R1, L5, R73, R5, L5, R186, L3, L2, R1, R3, L3, L3, R1, L4, L2, R3, L5, R4, R3, R1, L1, R5, R2, R1, R1, R1, R3, R2, L1, R5, R1, L5, R2, L2, L4, R3, L1, R4, L5, R4, R3, L5, L3, R4, R2, L5, L5, R2, R3, R5, R4, R2, R1, L1, L5, L2, L3, L4, L5, L4, L5, L1, R3, R4, R5, R3, L5, L4, L3, L1, L4, R2, R5, R5, R4, L2, L4, R3, R1, L2, R5, L5, R1, R1, L1, L5, L5, L2, L1, R5, R2, L4, L1, R4, R3, L3, R1, R5, L1, L4, R2, L3, R5, R3, R1, L3\r\n"
     ]
    }
   ],
   "source": [
    "! cat day1_input.txt"
   ]
  },
  {
   "cell_type": "code",
   "execution_count": 3,
   "metadata": {
    "ExecuteTime": {
     "end_time": "2017-11-08T09:50:17.471280Z",
     "start_time": "2017-11-08T09:50:17.463931Z"
    }
   },
   "outputs": [],
   "source": [
    "input_data = None\n",
    "with open(\"day1_input.txt\") as f:\n",
    "    input_data = f.read().strip().split()\n",
    "    input_data = [w.strip(\",\") for w in input_data ]"
   ]
  },
  {
   "cell_type": "markdown",
   "metadata": {},
   "source": [
    "We will form the direction map since they are finite."
   ]
  },
  {
   "cell_type": "code",
   "execution_count": 4,
   "metadata": {
    "ExecuteTime": {
     "end_time": "2017-11-08T09:50:17.486371Z",
     "start_time": "2017-11-08T09:50:17.473773Z"
    }
   },
   "outputs": [],
   "source": [
    "directions = {\n",
    "    (\"N\",\"R\") : (\"E\",0,1),\n",
    "    (\"N\",\"L\") : (\"W\",0,-1),\n",
    "    \n",
    "    (\"W\",\"R\") : (\"N\",1,1),\n",
    "    (\"W\",\"L\") : (\"S\",1,-1),\n",
    "    \n",
    "    (\"E\",\"R\") : (\"S\",1,-1),\n",
    "    (\"E\",\"L\") : (\"N\",1,1),\n",
    "    \n",
    "    (\"S\",\"R\") : (\"W\",0,-1),\n",
    "    (\"S\",\"L\") : (\"E\",0,1)\n",
    "}"
   ]
  },
  {
   "cell_type": "code",
   "execution_count": 5,
   "metadata": {
    "ExecuteTime": {
     "end_time": "2017-11-08T09:50:17.501231Z",
     "start_time": "2017-11-08T09:50:17.488819Z"
    }
   },
   "outputs": [],
   "source": [
    "def get_distance(data):\n",
    "    d,pos = \"N\",[0,0]\n",
    "    for code in data:\n",
    "        d1,v = code[0], int(code[1:])\n",
    "        d,i,m = directions[(d, code[0])]\n",
    "        pos[i] += m*v\n",
    "        #print(code,d,v,pos)\n",
    "    return sum([abs(n) for n in pos])    "
   ]
  },
  {
   "cell_type": "code",
   "execution_count": 6,
   "metadata": {
    "ExecuteTime": {
     "end_time": "2017-11-08T09:50:17.511373Z",
     "start_time": "2017-11-08T09:50:17.503741Z"
    }
   },
   "outputs": [
    {
     "data": {
      "text/plain": [
       "2"
      ]
     },
     "execution_count": 6,
     "metadata": {},
     "output_type": "execute_result"
    }
   ],
   "source": [
    "data = [\"R2\", \"R2\", \"R2\"]\n",
    "get_distance(data)"
   ]
  },
  {
   "cell_type": "code",
   "execution_count": 7,
   "metadata": {
    "ExecuteTime": {
     "end_time": "2017-11-08T09:50:17.518333Z",
     "start_time": "2017-11-08T09:50:17.513536Z"
    }
   },
   "outputs": [
    {
     "data": {
      "text/plain": [
       "12"
      ]
     },
     "execution_count": 7,
     "metadata": {},
     "output_type": "execute_result"
    }
   ],
   "source": [
    "data = [\"R5\", \"L5\", \"R5\", \"R3\"]\n",
    "get_distance(data)"
   ]
  },
  {
   "cell_type": "code",
   "execution_count": 8,
   "metadata": {
    "ExecuteTime": {
     "end_time": "2017-11-08T09:50:17.523908Z",
     "start_time": "2017-11-08T09:50:17.520115Z"
    }
   },
   "outputs": [
    {
     "data": {
      "text/plain": [
       "250"
      ]
     },
     "execution_count": 8,
     "metadata": {},
     "output_type": "execute_result"
    }
   ],
   "source": [
    "get_distance(input_data)"
   ]
  },
  {
   "cell_type": "markdown",
   "metadata": {},
   "source": [
    "## Day 2: Bathroom Security \n"
   ]
  },
  {
   "cell_type": "markdown",
   "metadata": {},
   "source": [
    "### part1"
   ]
  },
  {
   "cell_type": "markdown",
   "metadata": {},
   "source": [
    "You arrive at Easter Bunny Headquarters under cover of darkness. However, you left in such a rush that you forgot to use the bathroom! Fancy office buildings like this one usually have keypad locks on their bathrooms, so you search the front desk for the code.\n",
    "\n",
    "\"In order to improve security,\" the document you find says, \"bathroom codes will no longer be written down. Instead, please memorize and follow the procedure below to access the bathrooms.\"\n",
    "\n",
    "The document goes on to explain that each button to be pressed can be found by starting on the previous button and moving to adjacent buttons on the keypad: U moves up, D moves down, L moves left, and R moves right. Each line of instructions corresponds to one button, starting at the previous button (or, for the first line, the \"5\" button); press whatever button you're on at the end of each line. If a move doesn't lead to a button, ignore it.\n",
    "\n",
    "You can't hold it much longer, so you decide to figure out the code as you walk to the bathroom. You picture a keypad like this:\n",
    "\n",
    "1 2 3\n",
    "4 5 6\n",
    "7 8 9\n",
    "Suppose your instructions are:\n",
    "\n",
    "ULL\n",
    "RRDDD\n",
    "LURDL\n",
    "UUUUD\n",
    "You start at \"5\" and move up (to \"2\"), left (to \"1\"), and left (you can't, and stay on \"1\"), so the first button is 1.\n",
    "Starting from the previous button (\"1\"), you move right twice (to \"3\") and then down three times (stopping at \"9\" after two moves and ignoring the third), ending up with 9.\n",
    "Continuing from \"9\", you move left, up, right, down, and left, ending with 8.\n",
    "Finally, you move up four times (stopping at \"2\"), then down once, ending with 5.\n",
    "So, in this example, the bathroom code is 1985.\n",
    "\n",
    "Your puzzle input is the instructions from the document you found at the front desk. What is the bathroom code?"
   ]
  },
  {
   "cell_type": "code",
   "execution_count": 1,
   "metadata": {
    "ExecuteTime": {
     "end_time": "2017-11-10T21:26:59.060317Z",
     "start_time": "2017-11-10T21:26:59.052323Z"
    }
   },
   "outputs": [],
   "source": [
    "input_data = None\n",
    "with open(\"day2_input.txt\") as f:\n",
    "    input_data = f.read().strip().split()"
   ]
  },
  {
   "cell_type": "code",
   "execution_count": 33,
   "metadata": {
    "ExecuteTime": {
     "end_time": "2017-11-10T21:43:39.672565Z",
     "start_time": "2017-11-10T21:43:39.631070Z"
    }
   },
   "outputs": [],
   "source": [
    "def get_codes(data, keypad, keypad_max_size, start_index=(1,1), verbose=False):\n",
    "    r,c = start_index\n",
    "    digit = \"\"\n",
    "    for codes in data:\n",
    "        if verbose: print(\"  \",codes)\n",
    "        for code in codes:\n",
    "            if verbose: print(\"  before\",r,c,keypad[r][c])\n",
    "            if code == 'R' and c+1 < keypad_max_size and keypad[r][c+1] is not None:\n",
    "                c += 1\n",
    "            elif code == 'L' and c-1 >= 0 and keypad[r][c-1] is not None:\n",
    "                c -= 1\n",
    "            elif code == 'U' and r-1 >= 0 and keypad[r-1][c] is not None:\n",
    "                r -= 1\n",
    "            elif code == 'D' and r+1 < keypad_max_size and keypad[r+1][c] is not None:\n",
    "                r += 1\n",
    "            if verbose: print(\"  after\",code,r,c,keypad[r][c])\n",
    "        digit += str(keypad[r][c])\n",
    "    return digit\n",
    "        "
   ]
  },
  {
   "cell_type": "code",
   "execution_count": 34,
   "metadata": {
    "ExecuteTime": {
     "end_time": "2017-11-10T21:43:40.050315Z",
     "start_time": "2017-11-10T21:43:40.047064Z"
    }
   },
   "outputs": [],
   "source": [
    "sample = [\"ULL\",\n",
    "\"RRDDD\",\n",
    "\"LURDL\",\n",
    "\"UUUUD\"]"
   ]
  },
  {
   "cell_type": "code",
   "execution_count": 35,
   "metadata": {
    "ExecuteTime": {
     "end_time": "2017-11-10T21:43:40.231441Z",
     "start_time": "2017-11-10T21:43:40.224567Z"
    }
   },
   "outputs": [
    {
     "data": {
      "text/plain": [
       "'1985'"
      ]
     },
     "execution_count": 35,
     "metadata": {},
     "output_type": "execute_result"
    }
   ],
   "source": [
    "keypad = [[1,2,3],[4,5,6],[7,8,9]]\n",
    "get_codes(sample, keypad, keypad_max_size=3)"
   ]
  },
  {
   "cell_type": "code",
   "execution_count": 36,
   "metadata": {
    "ExecuteTime": {
     "end_time": "2017-11-10T21:43:40.408248Z",
     "start_time": "2017-11-10T21:43:40.399558Z"
    }
   },
   "outputs": [
    {
     "data": {
      "text/plain": [
       "'12578'"
      ]
     },
     "execution_count": 36,
     "metadata": {},
     "output_type": "execute_result"
    }
   ],
   "source": [
    "keypad = [[1,2,3],[4,5,6],[7,8,9]]\n",
    "get_codes(input_data, keypad, keypad_max_size=3)"
   ]
  },
  {
   "cell_type": "markdown",
   "metadata": {},
   "source": [
    "### part2"
   ]
  },
  {
   "cell_type": "markdown",
   "metadata": {},
   "source": [
    "You finally arrive at the bathroom (it's a several minute walk from the lobby so visitors can behold the many fancy conference rooms and water coolers on this floor) and go to punch in the code. Much to your bladder's dismay, the keypad is not at all like you imagined it. Instead, you are confronted with the result of hundreds of man-hours of bathroom-keypad-design meetings:\n",
    "\n",
    "   1\n",
    "  2 3 4\n",
    "5 6 7 8 9\n",
    "  A B C\n",
    "    D\n",
    "You still start at \"5\" and stop when you're at an edge, but given the same instructions as above, the outcome is very different:\n",
    "\n",
    "You start at \"5\" and don't move at all (up and left are both edges), ending at 5.\n",
    "Continuing from \"5\", you move right twice and down three times (through \"6\", \"7\", \"B\", \"D\", \"D\"), ending at D.\n",
    "Then, from \"D\", you move five more times (through \"D\", \"B\", \"C\", \"C\", \"B\"), ending at B.\n",
    "Finally, after five more moves, you end at 3.\n",
    "So, given the actual keypad layout, the code would be 5DB3.\n",
    "\n",
    "Using the same instructions in your puzzle input, what is the correct bathroom code?\n",
    "\n",
    "Although it hasn't changed, you can still get your puzzle input.\n"
   ]
  },
  {
   "cell_type": "code",
   "execution_count": null,
   "metadata": {},
   "outputs": [],
   "source": [
    "input_data = None\n",
    "with open(\"day21_input.txt\") as f:\n",
    "    input_data = f.read().strip().split()"
   ]
  },
  {
   "cell_type": "code",
   "execution_count": 37,
   "metadata": {
    "ExecuteTime": {
     "end_time": "2017-11-10T21:43:41.158632Z",
     "start_time": "2017-11-10T21:43:41.152737Z"
    }
   },
   "outputs": [],
   "source": [
    "keypad = [[None, None,  1, None, None],\n",
    "          [None,    2,  3,    4, None],\n",
    "          [   5,    6,  7,    8, None],\n",
    "          [None,  'A', 'B', 'C', None],\n",
    "          [None, None, 'D', None, None]]"
   ]
  },
  {
   "cell_type": "code",
   "execution_count": 39,
   "metadata": {
    "ExecuteTime": {
     "end_time": "2017-11-10T21:43:50.112372Z",
     "start_time": "2017-11-10T21:43:50.105529Z"
    }
   },
   "outputs": [
    {
     "data": {
      "text/plain": [
       "'5DB3'"
      ]
     },
     "execution_count": 39,
     "metadata": {},
     "output_type": "execute_result"
    }
   ],
   "source": [
    "sample = [\"ULL\",\n",
    "\"RRDDD\",\n",
    "\"LURDL\",\n",
    "\"UUUUD\"]\n",
    "get_codes(sample, keypad, keypad_max_size=5, start_index=(2,0), verbose=False)"
   ]
  },
  {
   "cell_type": "code",
   "execution_count": 40,
   "metadata": {
    "ExecuteTime": {
     "end_time": "2017-11-10T21:43:59.314938Z",
     "start_time": "2017-11-10T21:43:59.307932Z"
    }
   },
   "outputs": [
    {
     "data": {
      "text/plain": [
       "'516DD'"
      ]
     },
     "execution_count": 40,
     "metadata": {},
     "output_type": "execute_result"
    }
   ],
   "source": [
    "get_codes(input_data, keypad, keypad_max_size=5, start_index=(2,0), verbose=False)"
   ]
  },
  {
   "cell_type": "markdown",
   "metadata": {},
   "source": [
    "## Day3 squares With Three Sides"
   ]
  },
  {
   "cell_type": "markdown",
   "metadata": {},
   "source": [
    "### part1"
   ]
  },
  {
   "cell_type": "markdown",
   "metadata": {},
   "source": [
    "Now that you can think clearly, you move deeper into the labyrinth of hallways and office furniture that makes up this part of Easter Bunny HQ. This must be a graphic design department; the walls are covered in specifications for triangles.\n",
    "\n",
    "Or are they?\n",
    "\n",
    "The design document gives the side lengths of each triangle it describes, but... 5 10 25? Some of these aren't triangles. You can't help but mark the impossible ones.\n",
    "\n",
    "In a valid triangle, the sum of any two sides must be larger than the remaining side. For example, the \"triangle\" given above is impossible, because 5 + 10 is not larger than 25.\n",
    "\n",
    "In your puzzle input, how many of the listed triangles are possible?"
   ]
  },
  {
   "cell_type": "code",
   "execution_count": 81,
   "metadata": {
    "ExecuteTime": {
     "end_time": "2017-11-08T10:05:26.876008Z",
     "start_time": "2017-11-08T10:05:26.871279Z"
    }
   },
   "outputs": [],
   "source": [
    "input_data = None\n",
    "with open(\"day3_input.txt\") as f:\n",
    "    input_data = f.read().strip().split(\"\\n\")"
   ]
  },
  {
   "cell_type": "code",
   "execution_count": 89,
   "metadata": {
    "ExecuteTime": {
     "end_time": "2017-11-08T10:06:26.699458Z",
     "start_time": "2017-11-08T10:06:26.689613Z"
    }
   },
   "outputs": [],
   "source": [
    "input_data = [list(map(int, l.strip().split())) for l in input_data]"
   ]
  },
  {
   "cell_type": "code",
   "execution_count": 97,
   "metadata": {
    "ExecuteTime": {
     "end_time": "2017-11-08T10:10:08.121857Z",
     "start_time": "2017-11-08T10:10:08.114773Z"
    }
   },
   "outputs": [],
   "source": [
    "result = [ (sides[0]+sides[1] > sides[2]) and (sides[2]+sides[1] > sides[0]) and (sides[0]+sides[2] > sides[1]) for sides in input_data]"
   ]
  },
  {
   "cell_type": "code",
   "execution_count": 98,
   "metadata": {
    "ExecuteTime": {
     "end_time": "2017-11-08T10:10:08.479238Z",
     "start_time": "2017-11-08T10:10:08.474991Z"
    }
   },
   "outputs": [
    {
     "data": {
      "text/plain": [
       "862"
      ]
     },
     "execution_count": 98,
     "metadata": {},
     "output_type": "execute_result"
    }
   ],
   "source": [
    "sum(result)"
   ]
  },
  {
   "cell_type": "markdown",
   "metadata": {},
   "source": [
    "### part2"
   ]
  },
  {
   "cell_type": "markdown",
   "metadata": {},
   "source": [
    "Now that you've helpfully marked up their design documents, it occurs to you that triangles are specified in groups of three vertically. Each set of three numbers in a column specifies a triangle. Rows are unrelated.\n",
    "\n",
    "For example, given the following specification, numbers with the same hundreds digit would be part of the same triangle:\n",
    "\n",
    "101 301 501\n",
    "102 302 502\n",
    "103 303 503\n",
    "201 401 601\n",
    "202 402 602\n",
    "203 403 603\n",
    "In your puzzle input, and instead reading by columns, how many of the listed triangles are possible?"
   ]
  },
  {
   "cell_type": "code",
   "execution_count": 50,
   "metadata": {
    "ExecuteTime": {
     "end_time": "2017-11-10T21:54:55.568288Z",
     "start_time": "2017-11-10T21:54:55.562541Z"
    }
   },
   "outputs": [],
   "source": [
    "input_data = None\n",
    "with open(\"day31_input.txt\") as f:\n",
    "    input_data = f.read().strip().split(\"\\n\")"
   ]
  },
  {
   "cell_type": "code",
   "execution_count": 51,
   "metadata": {
    "ExecuteTime": {
     "end_time": "2017-11-10T21:54:55.875276Z",
     "start_time": "2017-11-10T21:54:55.864228Z"
    }
   },
   "outputs": [
    {
     "data": {
      "text/plain": [
       "[[785, 516, 744],\n",
       " [272, 511, 358],\n",
       " [801, 791, 693],\n",
       " [572, 150, 74],\n",
       " [644, 534, 138]]"
      ]
     },
     "execution_count": 51,
     "metadata": {},
     "output_type": "execute_result"
    }
   ],
   "source": [
    "input_data = [list(map(int, l.strip().split())) for l in input_data]\n",
    "input_data[:5]"
   ]
  },
  {
   "cell_type": "code",
   "execution_count": 56,
   "metadata": {
    "ExecuteTime": {
     "end_time": "2017-11-10T21:57:01.757332Z",
     "start_time": "2017-11-10T21:57:01.725850Z"
    }
   },
   "outputs": [
    {
     "data": {
      "text/plain": [
       "1577"
      ]
     },
     "execution_count": 56,
     "metadata": {},
     "output_type": "execute_result"
    }
   ],
   "source": [
    "def chunks(l, n):\n",
    "    \"\"\"Yield successive n-sized chunks from l.\"\"\"\n",
    "    for i in range(0, len(l), n):\n",
    "        yield l[i:i + n]\n",
    "        \n",
    "single_list = [input_data[r][c] for c in [0,1,2] for r in range(len(input_data))]\n",
    "result = [ (sides[0]+sides[1] > sides[2]) and (sides[2]+sides[1] > sides[0]) and (sides[0]+sides[2] > sides[1]) for sides in chunks(single_list, 3)]\n",
    "sum(result)"
   ]
  },
  {
   "cell_type": "markdown",
   "metadata": {},
   "source": [
    "## Day4"
   ]
  },
  {
   "cell_type": "markdown",
   "metadata": {},
   "source": [
    "### part1: Security Through Obscurity "
   ]
  },
  {
   "cell_type": "markdown",
   "metadata": {},
   "source": [
    "Finally, you come across an information kiosk with a list of rooms. Of course, the list is encrypted and full of decoy data, but the instructions to decode the list are barely hidden nearby. Better remove the decoy data first.\n",
    "\n",
    "Each room consists of an encrypted name (lowercase letters separated by dashes) followed by a dash, a sector ID, and a checksum in square brackets.\n",
    "\n",
    "A room is real (not a decoy) if the checksum is the five most common letters in the encrypted name, in order, with ties broken by alphabetization. For example:\n",
    "\n",
    "aaaaa-bbb-z-y-x-123[abxyz] is a real room because the most common letters are a (5), b (3), and then a tie between x, y, and z, which are listed alphabetically.\n",
    "a-b-c-d-e-f-g-h-987[abcde] is a real room because although the letters are all tied (1 of each), the first five are listed alphabetically.\n",
    "not-a-real-room-404[oarel] is a real room.\n",
    "totally-real-room-200[decoy] is not.\n",
    "Of the real rooms from the list above, the sum of their sector IDs is 1514.\n",
    "\n",
    "What is the sum of the sector IDs of the real rooms?"
   ]
  },
  {
   "cell_type": "code",
   "execution_count": 150,
   "metadata": {
    "ExecuteTime": {
     "end_time": "2017-11-10T23:27:45.786505Z",
     "start_time": "2017-11-10T23:27:45.777285Z"
    }
   },
   "outputs": [
    {
     "data": {
      "text/plain": [
       "(1091,\n",
       " ['gbc-frperg-pubpbyngr-znantrzrag-377[rgbnp]',\n",
       "  'nij-mywlyn-wlsiayhcw-jfumncw-alumm-mbcjjcha-422[mcjwa]',\n",
       "  'pualyuhapvuhs-ibuuf-zhslz-227[uhalp]',\n",
       "  'xlrypetn-prr-lylwjdtd-665[dzoya]',\n",
       "  'zilqwikbqdm-rmttgjmiv-mvoqvmmzqvo-278[mqvio]'])"
      ]
     },
     "execution_count": 150,
     "metadata": {},
     "output_type": "execute_result"
    }
   ],
   "source": [
    "input_data = None\n",
    "with open(\"day4_input.txt\") as f:\n",
    "    input_data = f.read().strip().split(\"\\n\")\n",
    "len(input_data), input_data[:5]"
   ]
  },
  {
   "cell_type": "code",
   "execution_count": 151,
   "metadata": {
    "ExecuteTime": {
     "end_time": "2017-11-10T23:27:59.834314Z",
     "start_time": "2017-11-10T23:27:59.781392Z"
    }
   },
   "outputs": [
    {
     "data": {
      "text/plain": [
       "409147"
      ]
     },
     "execution_count": 151,
     "metadata": {},
     "output_type": "execute_result"
    }
   ],
   "source": [
    "answer = 0\n",
    "for code in input_data:\n",
    "    m = re.match(r'(.+)-(\\d+)\\[([a-z]*)\\]', code)\n",
    "    code, sector, checksum = m.groups()\n",
    "    code = code.replace(\"-\",\"\")\n",
    "    counts = collections.Counter(code).most_common()\n",
    "    counts.sort(key=lambda k: (-k[1], k[0]))\n",
    "    if ''.join([ch for ch,_ in counts[:5]]) == checksum:\n",
    "        answer += int(sector)\n",
    "answer"
   ]
  },
  {
   "cell_type": "markdown",
   "metadata": {},
   "source": [
    "### part2"
   ]
  },
  {
   "cell_type": "markdown",
   "metadata": {},
   "source": [
    "With all the decoy data out of the way, it's time to decrypt this list and get moving.\n",
    "\n",
    "The room names are encrypted by a state-of-the-art shift cipher, which is nearly unbreakable without the right software. However, the information kiosk designers at Easter Bunny HQ were not expecting to deal with a master cryptographer like yourself.\n",
    "\n",
    "To decrypt a room name, rotate each letter forward through the alphabet a number of times equal to the room's sector ID. A becomes B, B becomes C, Z becomes A, and so on. Dashes become spaces.\n",
    "\n",
    "For example, the real name for qzmt-zixmtkozy-ivhz-343 is very encrypted name.\n",
    "\n",
    "What is the sector ID of the room where North Pole objects are stored?\n",
    "\n"
   ]
  },
  {
   "cell_type": "code",
   "execution_count": 167,
   "metadata": {
    "ExecuteTime": {
     "end_time": "2017-11-10T23:43:47.334781Z",
     "start_time": "2017-11-10T23:43:47.280838Z"
    }
   },
   "outputs": [
    {
     "name": "stdout",
     "output_type": "stream",
     "text": [
      "northpoleobjectstorage\n",
      "sector 991\n"
     ]
    }
   ],
   "source": [
    "for code in input_data:\n",
    "    m = re.match(r'(.+)-(\\d+)\\[([a-z]*)\\]', code)\n",
    "    code, sector, checksum = m.groups()\n",
    "    sector = int(sector)\n",
    "    code = code.replace(\"-\",\"\")\n",
    "    counts = collections.Counter(code).most_common()\n",
    "    counts.sort(key=lambda k: (-k[1], k[0]))\n",
    "    string_maps = string.ascii_lowercase\n",
    "    cipher_table = str.maketrans(string_maps, string_maps[sector%26:] + string_maps[:sector%26])\n",
    "    if ''.join([ch for ch,_ in counts[:5]]) == checksum:\n",
    "        if \"north\" in code.translate(cipher_table):\n",
    "            print(code.translate(cipher_table))\n",
    "            print(\"sector\",sector)\n"
   ]
  },
  {
   "cell_type": "markdown",
   "metadata": {},
   "source": [
    "## Day5 How About a Nice Game of Chess?"
   ]
  },
  {
   "cell_type": "markdown",
   "metadata": {
    "ExecuteTime": {
     "end_time": "2017-11-10T23:44:30.249713Z",
     "start_time": "2017-11-10T23:44:30.246099Z"
    }
   },
   "source": [
    "### part1"
   ]
  },
  {
   "cell_type": "markdown",
   "metadata": {},
   "source": [
    "You are faced with a security door designed by Easter Bunny engineers that seem to have acquired most of their security knowledge by watching hacking movies.\n",
    "\n",
    "The eight-character password for the door is generated one character at a time by finding the MD5 hash of some Door ID (your puzzle input) and an increasing integer index (starting with 0).\n",
    "\n",
    "A hash indicates the next character in the password if its hexadecimal representation starts with five zeroes. If it does, the sixth character in the hash is the next character of the password.\n",
    "\n",
    "For example, if the Door ID is abc:\n",
    "\n",
    "The first index which produces a hash that starts with five zeroes is 3231929, which we find by hashing abc3231929; the sixth character of the hash, and thus the first character of the password, is 1.\n",
    "5017308 produces the next interesting hash, which starts with 000008f82..., so the second character of the password is 8.\n",
    "The third time a hash starts with five zeroes is for abc5278568, discovering the character f.\n",
    "In this example, after continuing this search a total of eight times, the password is 18f47a30.\n",
    "\n",
    "Given the actual Door ID, what is the password?"
   ]
  },
  {
   "cell_type": "code",
   "execution_count": null,
   "metadata": {},
   "outputs": [],
   "source": []
  },
  {
   "cell_type": "code",
   "execution_count": null,
   "metadata": {},
   "outputs": [],
   "source": []
  },
  {
   "cell_type": "code",
   "execution_count": null,
   "metadata": {},
   "outputs": [],
   "source": []
  },
  {
   "cell_type": "markdown",
   "metadata": {},
   "source": [
    "### part2"
   ]
  },
  {
   "cell_type": "code",
   "execution_count": null,
   "metadata": {},
   "outputs": [],
   "source": []
  }
 ],
 "metadata": {
  "anaconda-cloud": {},
  "kernelspec": {
   "display_name": "Python 3",
   "language": "python",
   "name": "python3"
  },
  "language_info": {
   "codemirror_mode": {
    "name": "ipython",
    "version": 3
   },
   "file_extension": ".py",
   "mimetype": "text/x-python",
   "name": "python",
   "nbconvert_exporter": "python",
   "pygments_lexer": "ipython3",
   "version": "3.6.3"
  },
  "toc": {
   "nav_menu": {},
   "number_sections": true,
   "sideBar": true,
   "skip_h1_title": false,
   "toc_cell": false,
   "toc_position": {
    "height": "927px",
    "left": "0px",
    "right": "1350px",
    "top": "51.0035px",
    "width": "266px"
   },
   "toc_section_display": "block",
   "toc_window_display": true
  }
 },
 "nbformat": 4,
 "nbformat_minor": 2
}
